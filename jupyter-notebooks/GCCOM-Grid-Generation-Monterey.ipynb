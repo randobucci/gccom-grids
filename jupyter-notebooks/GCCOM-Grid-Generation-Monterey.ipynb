{
 "cells": [
  {
   "cell_type": "markdown",
   "metadata": {},
   "source": [
    "# Monterey Bay Curvilinear Grid README #\n",
    "\n",
    "GCCOM Monterey Bay Grid Generation Repository\n",
    "\n",
    "![Monterey Bay Basemap](export/mont-basemap.png)\n",
    "\n",
    "## Repository Details ##\n",
    "\n",
    "* Download/Format bathymetry data\n",
    "* Create KML in Google Earth\n",
    "* Parse/Extract coordinates from KML\n",
    "* Activate python environment\n",
    "* Create curvilinear grid using GRIDGEN Library\n",
    "* Visualize output\n"
   ]
  },
  {
   "cell_type": "markdown",
   "metadata": {},
   "source": [
    "### Download/Format bathymetry data ###\n",
    "\n",
    "Download gridded bathymetry from a variety of sources. Typically data are formatted as ASCII or ESRI Grid format.\n",
    "\n",
    "* [NOAA Coastal Elevation Models] (https://www.ngdc.noaa.gov/mgg/coastal/coastal.html)\n",
    "* [SCCOOS Bathymetry] (http://www.sccoos.org/data/bathy/?region=monterey)\n",
    "\n",
    "For this example, download and unzip ASCII file from SCCOOS\n"
   ]
  },
  {
   "cell_type": "markdown",
   "metadata": {},
   "source": [
    "```\n",
    "$ cd ./input\n",
    "$ wget http://www.sccoos.org/data/bathy/data/monterey.zip\n",
    "$ unzip ./monterey.zip\n",
    "```"
   ]
  },
  {
   "cell_type": "markdown",
   "metadata": {},
   "source": [
    "This will create the comma-delimited lon,lat,z file: monterey.xyz.\n",
    "We need the file to be in UTM coordinates, so project from GEODETIC (lon/lat) to UTM Zone 10 meters. This is accomplished with python script ../scripts/bathy-project.py, which will output the bathy file: mont_bathy.xyz\n"
   ]
  },
  {
   "cell_type": "code",
   "execution_count": null,
   "metadata": {
    "collapsed": true
   },
   "outputs": [],
   "source": [
    "```\n",
    "$ cd ./input\n",
    "$ python ../scripts/bathy-project.py ./monterey.xyz\n",
    "$ cd ..\n",
    "\n",
    "  Reading Geo File:../input/monterey.xyz\n",
    "  Projecting Data to UTM Coordinates\n",
    "  Created UTM File:../input/mont_bathy.xyz\n",
    "```\n",
    "\n",
    "Below is actual python code from bathy-project.py"
   ]
  },
  {
   "cell_type": "code",
   "execution_count": 11,
   "metadata": {},
   "outputs": [],
   "source": [
    "#- Initialize libs for this notebook\n",
    "import os, sys, shutil\n",
    "import math\n",
    "import numpy as np\n",
    "import netCDF4, datetime\n",
    "import matplotlib as mpl\n",
    "import matplotlib.pyplot as plt\n",
    "sys.path.append(\"./includes\")\n",
    "sys.path.append(\"./scripts\")\n",
    "from gccom_utils import *\n",
    "from gccom_plot import *\n",
    "from gis_utils import *\n",
    "from ll2utm import *\n",
    "%run ./includes/gccom_utils.py\n",
    "%run ./includes/gis_utils.py\n",
    "%run ./includes/gccom_plot.py\n",
    "#%run ./scripts/ll2utm.py"
   ]
  },
  {
   "cell_type": "code",
   "execution_count": 12,
   "metadata": {},
   "outputs": [
    {
     "name": "stdout",
     "output_type": "stream",
     "text": [
      "Reading Geo File:./input/monterey.xyz\n"
     ]
    }
   ],
   "source": [
    "#- Project data using bathy-project.py\n",
    "input_file = './input/monterey.xyz'\n",
    "#- Open up file and read coordinates\n",
    "print(\"Reading Geo File:\"+input_file)\n",
    "fid = open(input_file,'r')\n",
    "lon,lat,z = [],[],[]\n",
    "for line in fid:\n",
    "    line = line.strip()\n",
    "    cols = line.split(',')\n",
    "    lon.append(float(cols[0]))\n",
    "    lat.append(float(cols[1]))\n",
    "    z.append(float(cols[2]))\n",
    "fid.close()\n"
   ]
  },
  {
   "cell_type": "code",
   "execution_count": 13,
   "metadata": {},
   "outputs": [
    {
     "name": "stdout",
     "output_type": "stream",
     "text": [
      "Projecting Data to UTM Coordinates\n",
      "Created UTM File:./input/mont_bathy.xyz\n"
     ]
    }
   ],
   "source": [
    "print(\"Projecting Data to UTM Coordinates\")\n",
    "zone, easting, northing = LL_to_UTM(23, lat, lon)\n",
    "\n",
    "#- Write output\n",
    "out_file = \"./input/mont_bathy.xyz\"\n",
    "ofid = open(out_file,'w')\n",
    "for i in range(len(easting)):\n",
    "    ofid.write('%9.2f %10.2f %8.2f\\n' % (easting[i],northing[i],z[i]))\n",
    "ofid.close()\n",
    "print(\"Created UTM File:\"+out_file)\n"
   ]
  },
  {
   "cell_type": "code",
   "execution_count": 20,
   "metadata": {},
   "outputs": [
    {
     "name": "stdout",
     "output_type": "stream",
     "text": [
      "Input (lat/long): 37.25, -122.75\n",
      "Output (x/y): 4122635.547197988 522170.99832325714\n"
     ]
    }
   ],
   "source": [
    "print(\"Input (lat,long): {}, {}\\nOutput (x,y): {} {}\".format(\n",
    "            lat[0], lon[0], northing[0], easting[0]))\n"
   ]
  },
  {
   "cell_type": "markdown",
   "metadata": {},
   "source": [
    "### Digitize Bounding Polygon in Google Earth ###\n",
    "\n",
    "* ./input/mont-outline.kml: KML file digitized from Google Earth.\n",
    "* Screengrabs of process: ./export/screengrabs/\n",
    "\n",
    "![Google Earth KML Creation](export/screengrabs/ge_mont_2.png)\n"
   ]
  },
  {
   "cell_type": "markdown",
   "metadata": {},
   "source": [
    "### Parse KML File ###\n",
    "\n",
    "* Run python script to format/parse digitized kml polygon:\n",
    "\n",
    "```\n",
    "$ python ./scripts/parse_kml.py ./input/mont-outline.kml\n",
    "```\n",
    "\n",
    "* INPUT: ./input/mont-outline.kml\n",
    "* OUTPUT: ./input/mont-outline_geo.xy\n",
    "\n",
    "Below are the python commands from parse_kml.py:"
   ]
  },
  {
   "cell_type": "code",
   "execution_count": 23,
   "metadata": {},
   "outputs": [
    {
     "name": "stdout",
     "output_type": "stream",
     "text": [
      "Created ./input/mont-outline_geo.xy\n"
     ]
    }
   ],
   "source": [
    "#--------------------------------------------------------\n",
    "#- File: parse_kml.py\n",
    "#- Description: Extract coordinates from Google Earth KML\n",
    "#-              and convert to UTM, saving results.\n",
    "#- Author: Randy Bucciarelli\n",
    "#- Date: June 15, 2017\n",
    "#--------------------------------------------------------\n",
    "import sys\n",
    "from xml.dom.minidom import parseString\n",
    "\n",
    "#- Define source files\n",
    "src_dir = './input/'\n",
    "kml_file = src_dir+'mont-outline.kml'\n",
    "\n",
    "#- Open kml file and read into memory\n",
    "file = open(kml_file)\n",
    "theData = file.read()\n",
    "file.close()\n",
    "\n",
    "#-Load data string into DOM\n",
    "theDom = parseString(theData)\n",
    "\n",
    "lats,lons,verts = [],[],[]\n",
    "#- Loop through dom and find coordinates\n",
    "for d in theDom.getElementsByTagName('coordinates'):\n",
    "    #- Get all the vertices in first polygon\n",
    "    positions = d.firstChild.data.split()\n",
    "    for p in positions:\n",
    "        coords = p.split(',') \n",
    "        lats.append(float(coords[1]))\n",
    "        lons.append(float(coords[0]))\n",
    "        verts.append(0)\n",
    "\n",
    "#- Write geographic coords to outfile\n",
    "out_file = kml_file[0:len(kml_file)-4]+'_geo.xy'\n",
    "thefile = open(out_file, 'w')\n",
    "for i in range(len(lats)):\n",
    "    thefile.write(\"%13.8f\\t%13.8f\\t%d\\n\" % (lons[i],lats[i],verts[i]))\n",
    "thefile.close()\n",
    "print(\"Created \"+out_file)\n"
   ]
  },
  {
   "cell_type": "markdown",
   "metadata": {},
   "source": [
    "### Create Curvilinear Grid ###\n",
    "\n",
    "* Activate correct python environment\n",
    "\n",
    "```\n",
    "$ source activate grid\n",
    "```\n",
    "\n",
    "* Run python script ./scripts/create_grid.py to Create curvilinear grid from geographic coords\n",
    "\n",
    "```\n",
    "(grid) $ python ./scripts/create_grid.py ./input/mont-outline_geo.xy\n",
    "\n",
    "Created plot: ./export/mont-grid.png\n",
    "Created grid corner nodes: ./output/mont_grid.xy\n",
    "Created grid center nodes: ./output/mont_grid_CE.xy\n",
    "\n",
    "```\n",
    "\n",
    "* INPUT: ./input/mont-outline_geo.xy, ./input/mont-vertices.txt\n",
    "* OUTPUT: ./output/mont-outline_utm.xy, ./output/mont_grid.xy, ./output/mont_grid_CE.xy, ./export/mont-grid.png\n",
    "\n",
    "![Output Curvilinear Grid](export/mont-grid.png)\n"
   ]
  },
  {
   "cell_type": "markdown",
   "metadata": {},
   "source": [
    "### Interpolate Bathymetry Onto Curvilinear Grid ###\n",
    "* Execute BASH shell script (./scripts/gridgen_gridbathy.sh) \n",
    "* * Interpolates source bathymetry onto curvlinear grid center points\n",
    "* * Requires GRIDBATHY code (./software/gridutils/gridbathy)\n",
    "* INPUT: ./input/mont_bathy.dat, ./output/mont_grid.xy\n",
    "* OUTPUT: ./output/output_bathy_CE, ./output/output_grid_CE\n",
    "\n",
    "```\n",
    "$ cd ./scripts\n",
    "$ ./gridgen_gridbathy.sh\n",
    "$ cd ..\n",
    "```\n",
    "\n",
    "![Interpolated Bathymetry 2D](export/mont-bathy.png)\n"
   ]
  },
  {
   "cell_type": "markdown",
   "metadata": {},
   "source": [
    "### Format 2-D curvilinear grid for GCCOM ###\n",
    "* Python script (./scripts/gridgen2gcom2d.py) \n",
    "* * Merges grid center points with bathymetry\n",
    "* * Formats for use in GCCOM\n",
    "* * Creates Problem Size file (./output/ProbSize.dat) with Grid Dimensions\n",
    "* INPUT: ./output/output_bathy_CE, ./output/output_grid_CE\n",
    "* OUTPUT: ./output/gcom_grid2d.dat, ./output/ProbSize_mont.dat\n",
    "\n",
    "```\n",
    "$ python ./scripts/gridgen2gcom2d.py\n",
    "\n",
    "NX = 49; NY = 24\n",
    "Created 2-D Grid File: ./output/gcom_grid2d.dat\n",
    "Created GCCOM ProbSize File: ./output/ProbSize_mont.dat\n",
    "\n",
    "```\n"
   ]
  },
  {
   "cell_type": "markdown",
   "metadata": {},
   "source": [
    "### Generate 3-D mesh from 2-D ###\n",
    "* Python script (./scripts/gen_gcom_3dgrid.py) \n",
    "* * Python script to generate 3d mesh from 2d\n",
    "* * Read mesh dimensions from ProbSize.dat file\n",
    "* INPUT: ./output/gcom_grid2d.dat, ./output/ProbSize_mont.dat\n",
    "* OUTPUT: ./output/Grid_lj.dat\n",
    "\n",
    "```\n",
    "$ python ./scripts/gen_gcom_3dgrid.py\n",
    "\n",
    "Mesh Dimensions: 49x24x13\n",
    "```\n",
    "\n",
    "![3-D Curvilinear Mesh](export/mont-bathy-3d.png)"
   ]
  },
  {
   "cell_type": "markdown",
   "metadata": {},
   "source": [
    "### Visualize Output Grids With Bathymetry ###\n",
    "\n",
    "To visualize interpolated 2D bathymetry:\n",
    "\n",
    "```\n",
    "$ python ./scripts/plot_bathy.py\n",
    "\n",
    "```\n",
    "\n",
    "To visualize 3D curvilinear mesh:\n",
    "\n",
    "```\n",
    "$ python ./scripts/plot_bathy_3d.py\n",
    "```\n",
    "\n",
    "### Visualize Y-Z (J-K) Plane ###\n",
    "* Python script (./scripts/plot_face.py) \n",
    "\n",
    "![3-D Curvilinear Mesh Face](export/mont-face.png)\n"
   ]
  },
  {
   "cell_type": "code",
   "execution_count": null,
   "metadata": {
    "collapsed": true
   },
   "outputs": [],
   "source": []
  }
 ],
 "metadata": {
  "kernelspec": {
   "display_name": "Python 3",
   "language": "python",
   "name": "python3"
  },
  "language_info": {
   "codemirror_mode": {
    "name": "ipython",
    "version": 3
   },
   "file_extension": ".py",
   "mimetype": "text/x-python",
   "name": "python",
   "nbconvert_exporter": "python",
   "pygments_lexer": "ipython3",
   "version": "3.5.2"
  }
 },
 "nbformat": 4,
 "nbformat_minor": 2
}
