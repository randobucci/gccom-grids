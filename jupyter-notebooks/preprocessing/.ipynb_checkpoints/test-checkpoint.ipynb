{
 "cells": [
  {
   "cell_type": "code",
   "execution_count": 6,
   "metadata": {},
   "outputs": [],
   "source": [
    "#-----------------------------------------------------------------------------------\n",
    "#- preprocessing.ipynb\n",
    "#- Python notebook to set up initial conditions for GCCOM model\n",
    "#- Requires: Grid.dat; ProbSize.dat\n",
    "#-----------------------------------------------------------------------------------\n",
    "\n",
    "#- Initialize libs\n",
    "import os, sys, shutil\n",
    "import math\n",
    "import numpy as np\n",
    "import netCDF4, datetime\n",
    "import matplotlib as mpl\n",
    "import matplotlib.pyplot as plt\n",
    "sys.path.append(\"./includes\")\n",
    "from gccom_utils import *\n",
    "from gccom_plot import *\n",
    "from gis_utils import *\n"
   ]
  },
  {
   "cell_type": "code",
   "execution_count": 8,
   "metadata": {},
   "outputs": [
    {
     "name": "stdout",
     "output_type": "stream",
     "text": [
      "Opening ROMS NETCDF file\n"
     ]
    }
   ],
   "source": [
    "\n",
    "#- Define source files, will default to lookd for 'Grid.dat' & 'ProbSize.dat'\n",
    "#- User can input 'Grid_sdbay.dat' & script will automatically find 'ProbSize_sdbay.dat'\n",
    "GridFileName = './data/LAJOLLA_40x24x14/Grid_40x24x14.dat'\n",
    "ProbSizeFileName='./data/LAJOLLA_40x24x14/ProbSize_40x24x14.dat'\n",
    "ROMSFileName = 'http://west.rssoffice.com:8080/thredds/dodsC/roms/CA3km-forecast/CA/ca_subCA_fcst_2014120503.nc'\n",
    "fname = ROMSFileName\n",
    "print('Opening ROMS NETCDF file')\n",
    "nc = netCDF4.Dataset(fname)\n"
   ]
  },
  {
   "cell_type": "code",
   "execution_count": 9,
   "metadata": {},
   "outputs": [
    {
     "ename": "NameError",
     "evalue": "name 'ROMStime2mat' is not defined",
     "output_type": "error",
     "traceback": [
      "\u001b[0;31m---------------------------------------------------------------------------\u001b[0m",
      "\u001b[0;31mNameError\u001b[0m                                 Traceback (most recent call last)",
      "\u001b[0;32m<ipython-input-9-93337d3734b3>\u001b[0m in \u001b[0;36m<module>\u001b[0;34m()\u001b[0m\n\u001b[1;32m      1\u001b[0m \u001b[0;31m#- Grab start/end date from ROMS dataset\u001b[0m\u001b[0;34m\u001b[0m\u001b[0;34m\u001b[0m\u001b[0m\n\u001b[0;32m----> 2\u001b[0;31m \u001b[0mroms_times\u001b[0m\u001b[0;34m,\u001b[0m\u001b[0mroms_strings\u001b[0m\u001b[0;34m,\u001b[0m\u001b[0melapsed_sec\u001b[0m \u001b[0;34m=\u001b[0m \u001b[0mROMStime2mat\u001b[0m\u001b[0;34m(\u001b[0m\u001b[0mnc\u001b[0m\u001b[0;34m)\u001b[0m\u001b[0;34m\u001b[0m\u001b[0m\n\u001b[0m",
      "\u001b[0;31mNameError\u001b[0m: name 'ROMStime2mat' is not defined"
     ]
    }
   ],
   "source": [
    "#- Grab start/end date from ROMS dataset\n",
    "roms_times,roms_strings,elapsed_sec = ROMStime2mat(nc)\n"
   ]
  },
  {
   "cell_type": "code",
   "execution_count": null,
   "metadata": {
    "collapsed": true
   },
   "outputs": [],
   "source": []
  }
 ],
 "metadata": {
  "kernelspec": {
   "display_name": "Python 3",
   "language": "python",
   "name": "python3"
  },
  "language_info": {
   "codemirror_mode": {
    "name": "ipython",
    "version": 3
   },
   "file_extension": ".py",
   "mimetype": "text/x-python",
   "name": "python",
   "nbconvert_exporter": "python",
   "pygments_lexer": "ipython3",
   "version": "3.5.2"
  }
 },
 "nbformat": 4,
 "nbformat_minor": 2
}
